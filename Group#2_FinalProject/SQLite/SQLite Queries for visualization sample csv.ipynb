{
 "cells": [
  {
   "cell_type": "markdown",
   "id": "a12d3624",
   "metadata": {},
   "source": [
    "Final Project sample SQLite queries to generate sample .csv for visualization"
   ]
  },
  {
   "cell_type": "markdown",
   "id": "ff53c065",
   "metadata": {},
   "source": [
    ">> HardSkills.csv\n",
    "\n",
    "\n",
    "select Description, JobCount from Skills where type not in ('domn','nontech','ba') order by JobCount DESC\n",
    "\n"
   ]
  },
  {
   "cell_type": "markdown",
   "id": "a2341d40",
   "metadata": {},
   "source": [
    ">> SoftSkills.csv\n",
    "\n",
    "select Description, JobCount from Skills where type in ('domn','nontech','ba') order by JobCount DESC\n",
    "\n",
    "\n"
   ]
  },
  {
   "cell_type": "markdown",
   "id": "8740b0a1",
   "metadata": {},
   "source": [
    ">> Jobs.csv\n",
    "\n",
    "select * from Jobs\n"
   ]
  },
  {
   "cell_type": "markdown",
   "id": "cc9b19c3",
   "metadata": {},
   "source": [
    ">> HardSkillPairs.csv\n",
    "\n",
    "select * from JobSkillPairs where skID1 in (select Skill_ID from Skills where type not in ('domn','nontech','ba') order by JobCount)\n",
    "\n",
    ">> SoftSkillPairs.csv\n",
    "\n",
    "select * from JobSkillPairs where skID1 in (select Skill_ID from Skills where type in ('domn','nontech','ba') order by JobCount)"
   ]
  }
 ],
 "metadata": {
  "kernelspec": {
   "display_name": "Python 3 (ipykernel)",
   "language": "python",
   "name": "python3"
  },
  "language_info": {
   "codemirror_mode": {
    "name": "ipython",
    "version": 3
   },
   "file_extension": ".py",
   "mimetype": "text/x-python",
   "name": "python",
   "nbconvert_exporter": "python",
   "pygments_lexer": "ipython3",
   "version": "3.9.12"
  }
 },
 "nbformat": 4,
 "nbformat_minor": 5
}
