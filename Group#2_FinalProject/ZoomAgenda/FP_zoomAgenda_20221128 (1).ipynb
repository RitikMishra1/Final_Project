{
 "cells": [
  {
   "cell_type": "markdown",
   "id": "cad4f5bd",
   "metadata": {},
   "source": [
    "# Team zoom meeting 11/14/2022 Agenda\n",
    "Project Title: Real-World Job Skill Demands vs. Supplies from University Graduates\n",
    "- Status: job data collection, phython for data preparaion, web user interface request/respond\n",
    "- Evaluation where we are\n",
    "- Next step tasks: \n",
    "    > Web user interface development deploy to Heroku by Wednesday 11/30/22 11:59pm\n",
    "    > push python, sqlite development work to Gitjub by Tuesday 11/29/22 11:59pm\n",
    "    > Complete collecting 40 jobs by Monday 11/28/22 11:59pm\n",
    "    > Collecting additional 40 jobs per team member by Thursday 12/01/22 11:59pm\n"
   ]
  }
 ],
 "metadata": {
  "kernelspec": {
   "display_name": "Python 3 (ipykernel)",
   "language": "python",
   "name": "python3"
  },
  "language_info": {
   "codemirror_mode": {
    "name": "ipython",
    "version": 3
   },
   "file_extension": ".py",
   "mimetype": "text/x-python",
   "name": "python",
   "nbconvert_exporter": "python",
   "pygments_lexer": "ipython3",
   "version": "3.9.12"
  }
 },
 "nbformat": 4,
 "nbformat_minor": 5
}
