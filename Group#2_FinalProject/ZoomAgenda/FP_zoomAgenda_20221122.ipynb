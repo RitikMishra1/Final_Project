{
 "cells": [
  {
   "cell_type": "markdown",
   "id": "cad4f5bd",
   "metadata": {},
   "source": [
    "# Team zoom meeting 11/22/2022 Agenda\n",
    "Project Title: Real-World Job Skill Demands vs. Supplies from University Graduates\n",
    "- Review what's done and what's not done\n",
    "- Next step\n",
    "    - Task and due date\n",
    "    - Additional zoom meeting with Manik on web app development"
   ]
  },
  {
   "cell_type": "markdown",
   "id": "15907f8e",
   "metadata": {},
   "source": [
    "Lab:\n",
    "\n",
    "1. Copy/paste a job detail to job text (.txt) file, \n",
    "    save each job to a text (.txt) file with file name being job board initial follow by a sequentially assigned integer\n",
    "    Ex: assign file name: for indeed jobs as I1, I2, I3…,I10, and for linkedIn jobs as L1, L2, L3,...L10\n",
    "    \n",
    "2. Extract skill, technical, non-technical, software, platform skills,\n",
    "    save to a text (.txt) file with file name for example I_Skills for Indeed, F_Skills for Flexjob, M_Skills for Monster.\n",
    "    \n",
    "3. Job board assignment:\n",
    "\n",
    "      Harianth, Flexjobs\n",
    "\n",
    "         sample URL: https://www.flexjobs.com/search?search=Data%20Scientist\n",
    "\n",
    "      Manik, Glassdoor    \n",
    "\n",
    "         sample URL: https://www.glassdoor.com/Job/data-scientist-jobs-SRCH_KO0,14.htm?context=Jobs&clickSource=searchBox\n",
    "\n",
    "     Pilan,    Indeed\n",
    "\n",
    "         sample URL: https://www.indeed.com/jobs?q=data+scientist&l=&vjk=e18b3dc0bbab8730\n",
    "\n",
    "     Praveena, LinkedIn\n",
    "\n",
    "         sample URL: https://www.linkedin.com/jobs/search/?currentJobId=3338189242&geoId=103644278&keywords=data%20scientist&location=United%20States&refresh=true\n",
    "\n",
    "     Srividya, Monster            \n",
    "\n",
    "        sample URL: https://www.monster.com/jobs/search?q=Data-Scientist&where=California&page=1&intcid=jebbit_ysvlmm6o"
   ]
  },
  {
   "cell_type": "markdown",
   "id": "abfafd94",
   "metadata": {},
   "source": [
    "#### Task 1_1: Data collection\n",
    "\n",
    "Due Date:\n",
    "    \n",
    "    Sunday 11/27/22 11:59pm\n",
    "  \n",
    "Instruction:\n",
    "    \n",
    "     1. collect total of 40 jobs from each of the job board assigned, if you already upload 10 jobs, you only need to upload the additional 30 jobs, number the job from I11, I12,.....I40 When all complete you should have total I1, I2,...I40 txt files.\n",
    "\n",
    "Detail: collect samples from each  job title category, i.e.: Data Scientist, Data Engineer, Data Analyst, Machine Learning or ML, Artifical Intelligence or AI, Business Intelligence or BI. Copy the heading, body and date posted from each job posting detail. Save each job to a text (.txt) file with file name being job board initial follow by a sequentially assigned integer. Ex: assign file name: for indeed jobs as I1, I2, I3…,I10, and for linkedIn jobs as L1, L2, L3,...L10. \n",
    "(Note: Use date posted as filter, jog down the date range you selected for these jobs)\n",
    "\n",
    "      2. extract additional technical, non-technical, software, platform skills that are not already on the skills list from the additional jobs collected, create a list and save to a text (.txt) file, with file name for example I_Skills2, F_Skills2, M_Skills2 for respective job board you are working on. This list of skills will be used to build the skill master table. \n",
    "\n",
    "      3. Place the job and skill text files in Github DEV environment and notify team when you have done so, \n",
    "      \n",
    " *** also Please compress your file if possilbe and email to me, this way I don't need to go to Github to get them.\n",
    "\n",
    "      4. Job board assignment:\n",
    "      \n",
    "          Harianth, Glassdoor\n",
    "        \n",
    "             sample URL: https://www.glassdoor.com/Job/data-scientist-jobs-SRCH_KO0,14.htm?context=Jobs&clickSource=searchBox\n",
    "             \n",
    "          Manik, Glassdoor\t\n",
    "          \n",
    "             sample URL: https://www.glassdoor.com/Job/data-scientist-jobs-SRCH_KO0,14.htm?context=Jobs&clickSource=searchBox\n",
    "             \n",
    "         Pilan,\tIndeed\n",
    "             \n",
    "             sample URL: https://www.indeed.com/jobs?q=data+scientist&l=&vjk=e18b3dc0bbab8730\n",
    "         \n",
    "         Praveena, LinkedIn\n",
    "             \n",
    "             sample URL: https://www.linkedin.com/jobs/search/?currentJobId=3338189242&geoId=103644278&keywords=data%20scientist&location=United%20States&refresh=true\n",
    "         \n",
    "         Srividya, Monster            \n",
    "            \n",
    "            sample URL: https://www.monster.com/jobs/search?q=Data-Scientist&where=California&page=1&intcid=jebbit_ysvlmm6o\n",
    " "
   ]
  },
  {
   "cell_type": "code",
   "execution_count": null,
   "id": "516c42d2",
   "metadata": {},
   "outputs": [],
   "source": []
  }
 ],
 "metadata": {
  "kernelspec": {
   "display_name": "Python 3 (ipykernel)",
   "language": "python",
   "name": "python3"
  },
  "language_info": {
   "codemirror_mode": {
    "name": "ipython",
    "version": 3
   },
   "file_extension": ".py",
   "mimetype": "text/x-python",
   "name": "python",
   "nbconvert_exporter": "python",
   "pygments_lexer": "ipython3",
   "version": "3.9.12"
  }
 },
 "nbformat": 4,
 "nbformat_minor": 5
}
