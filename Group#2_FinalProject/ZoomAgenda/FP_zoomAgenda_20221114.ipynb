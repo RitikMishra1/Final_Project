{
 "cells": [
  {
   "cell_type": "markdown",
   "id": "cad4f5bd",
   "metadata": {},
   "source": [
    "# Team zoom meeting 11/14/2022 Agenda\n",
    "Project Title: Real-World Job Skill Demands vs. Supplies from University Graduates\n",
    "- Introduction\n",
    "    - scope\n",
    "    - goal\n",
    "    - analysis questions\n",
    "    - deliverables\n",
    "    - methodology\n",
    "    - Agile iterations: \n",
    "    - SDLC - analysis, design\n",
    "    - CRISP_DM - data unserstanding, data preparation\n",
    "    - SDLC - build (table, app)\n",
    "    - Tools\n",
    "    - System environment\n",
    "    - Lab\n",
    "    - Task and due date"
   ]
  },
  {
   "cell_type": "markdown",
   "id": "15907f8e",
   "metadata": {},
   "source": [
    "Lab:\n",
    "\n",
    "1. Copy/paste a job detail to job text (.txt) file, \n",
    "    save each job to a text (.txt) file with file name being job board initial follow by a sequentially assigned integer\n",
    "    Ex: assign file name: for indeed jobs as I1, I2, I3…,I10, and for linkedIn jobs as L1, L2, L3,...L10\n",
    "    \n",
    "2. Extract skill, technical, non-technical, software, platform skills,\n",
    "    save to a text (.txt) file with file name for example I_Skills for Indeed, F_Skills for Flexjob, M_Skills for Monster.\n",
    "    \n",
    "3. Job board assignment:\n",
    "\n",
    "      Harianth, Flexjobs\n",
    "\n",
    "         sample URL: https://www.flexjobs.com/search?search=Data%20Scientist\n",
    "\n",
    "      Manik, Glassdoor    \n",
    "\n",
    "         sample URL: https://www.glassdoor.com/Job/data-scientist-jobs-SRCH_KO0,14.htm?context=Jobs&clickSource=searchBox\n",
    "\n",
    "     Pilan,    Indeed\n",
    "\n",
    "         sample URL: https://www.indeed.com/jobs?q=data+scientist&l=&vjk=e18b3dc0bbab8730\n",
    "\n",
    "     Praveena, LinkedIn\n",
    "\n",
    "         sample URL: https://www.linkedin.com/jobs/search/?currentJobId=3338189242&geoId=103644278&keywords=data%20scientist&location=United%20States&refresh=true\n",
    "\n",
    "     Srividya, Monster            \n",
    "\n",
    "        sample URL: https://www.monster.com/jobs/search?q=Data-Scientist&where=California&page=1&intcid=jebbit_ysvlmm6o"
   ]
  },
  {
   "cell_type": "markdown",
   "id": "abfafd94",
   "metadata": {},
   "source": [
    "Task 1_1: Data collection\n",
    "\n",
    "Due Date:\n",
    "    \n",
    "    Thursday 11/17/22 1:59pm\n",
    "  \n",
    "Instruction:\n",
    "    \n",
    "     1. collect total of 10 jobs from each of the job board assigned, collect samples from each  job title category, i.e.: Data Scientist, Data Engineer, Data Analyst, Machine Learning or ML, Artifical Intelligence or AI, Business Intelligence or BI. Copy the heading, body and date posted from each job posting detail. Save each job to a text (.txt) file with file name being job board initial follow by a sequentially assigned integer. Ex: assign file name: for indeed jobs as I1, I2, I3…,I10, and for linkedIn jobs as L1, L2, L3,...L10. \n",
    "(Note: Use date posted as filter, jog down the date range you selected for these 10 jobs)\n",
    "\n",
    "      2. extract technical, non-technical, software, platform skills from the 10 jobs collected, create a list and safe to a text (.txt) file, with file name for example I_Skills, F_Skills, M_Skills for respective job board you are working on. This list of skills will be used to build the skill master table. \n",
    "\n",
    "      3. Place the job and skill text files in Github DEV environment and notify team when you have done so.\n",
    "\n",
    "      4. Job board assignment:\n",
    "      \n",
    "          Harianth, Flexjobs\n",
    "        \n",
    "             sample URL: https://www.flexjobs.com/search?search=Data%20Scientist\n",
    "             \n",
    "          Manik, Glassdoor\t\n",
    "          \n",
    "             sample URL: https://www.glassdoor.com/Job/data-scientist-jobs-SRCH_KO0,14.htm?context=Jobs&clickSource=searchBox\n",
    "             \n",
    "         Pilan,\tIndeed\n",
    "             \n",
    "             sample URL: https://www.indeed.com/jobs?q=data+scientist&l=&vjk=e18b3dc0bbab8730\n",
    "         \n",
    "         Praveena, LinkedIn\n",
    "             \n",
    "             sample URL: https://www.linkedin.com/jobs/search/?currentJobId=3338189242&geoId=103644278&keywords=data%20scientist&location=United%20States&refresh=true\n",
    "         \n",
    "         Srividya, Monster            \n",
    "            \n",
    "            sample URL: https://www.monster.com/jobs/search?q=Data-Scientist&where=California&page=1&intcid=jebbit_ysvlmm6o\n",
    " "
   ]
  }
 ],
 "metadata": {
  "kernelspec": {
   "display_name": "Python 3 (ipykernel)",
   "language": "python",
   "name": "python3"
  },
  "language_info": {
   "codemirror_mode": {
    "name": "ipython",
    "version": 3
   },
   "file_extension": ".py",
   "mimetype": "text/x-python",
   "name": "python",
   "nbconvert_exporter": "python",
   "pygments_lexer": "ipython3",
   "version": "3.9.12"
  }
 },
 "nbformat": 4,
 "nbformat_minor": 5
}
